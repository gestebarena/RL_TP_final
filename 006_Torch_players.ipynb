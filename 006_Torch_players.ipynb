{
 "cells": [
  {
   "cell_type": "markdown",
   "id": "55e8dd61-a1b5-44ff-a7fd-215d3c6bdee2",
   "metadata": {},
   "source": [
    "# Crear un TorchPlayer\n"
   ]
  },
  {
   "cell_type": "markdown",
   "id": "9e8578ae-4e1f-482b-9113-c273bdc35f8c",
   "metadata": {},
   "source": [
    "Recibe el modelo a instanciar como path y juega con el mismo"
   ]
  },
  {
   "cell_type": "markdown",
   "id": "5d709faf-8879-4ddd-95f9-4a5ee0e5b74e",
   "metadata": {},
   "source": [
    "- Pensar como resolver el problema de que solo samplee las válidas\n",
    "- Agregarle la opción de monte carlo tree search (opcional) con las opciones de iterationLimit, timeLimit\n",
    "\n",
    "Si va a agregar MCTS mirar la notebook 007_MCTS.ipnb"
   ]
  },
  {
   "cell_type": "code",
   "execution_count": 1,
   "id": "e466d833-6d0a-4a65-a839-a9f956f0d136",
   "metadata": {},
   "outputs": [],
   "source": [
    "from boardgame2 import ReversiEnv\n",
    "import numpy as np\n",
    "from players import RandomPlayer, DictPolicyPlayer, GreedyPlayer\n",
    "from multi_env import make_reversi_vec_env, SelfPlayEnv\n",
    "import torch as th\n",
    "from stable_baselines3 import PPO\n",
    "from stable_baselines3.common.policies import ActorCriticPolicy"
   ]
  },
  {
   "cell_type": "code",
   "execution_count": 275,
   "id": "84f5c470-4dc9-4be9-8222-6c7df3b97e55",
   "metadata": {},
   "outputs": [],
   "source": [
    "class TorchPlayer():\n",
    "    def __init__(self, model, player=1, board_shape=None, env=None, flatten_action=False, deterministic = True):\n",
    "        if (env is None) and (board_shape is None):\n",
    "            print(\"board_shape and env can't be both None\")\n",
    "        if env is None:\n",
    "            env = ReversiEnv(board_shape=board_shape)\n",
    "        self.env = env\n",
    "        self.player = player # player number. 1 o -1\n",
    "        self.flatten_action = flatten_action\n",
    "        self.board_shape = self.env.board.shape[0]\n",
    "        self.deterministic = deterministic\n",
    "        self.model = model\n",
    "\n",
    "    def predict(self, board):\n",
    "        obs = np.array([board*self.player])\n",
    "        action, _ = self.model.predict(obs)\n",
    "        if self.flatten_action:\n",
    "            return action\n",
    "        else:\n",
    "            return [action // self.board_shape, action % self.board_shape]\n",
    "        \n",
    "#    def predict(self, board):\n",
    "#        valid_actions = np.argwhere(self.env.get_valid((board, self.player)) == 1)\n",
    "#        if len(valid_actions) == 0:\n",
    "#            print('pass')\n",
    "#            action = self.env.PASS\n",
    "#        else:\n",
    "#            board_tuple = tuple((board * self.player).reshape(-1))\n",
    "#            action, _ = self.model.predict(board_tuple)\n",
    "#            #action = self.pi_dict[board_tuple]\n",
    "#        if self.flatten_action:\n",
    "#            return action[0] * self.board_shape + action[1]\n",
    "#        else:\n",
    "#            return action\n",
    "##        #if self.flatten_action:\n",
    "# #       #    return action\n",
    "# #       #else:\n",
    "#        #    return [action // self.board_shape, action % self.board_shape]\n"
   ]
  },
  {
   "cell_type": "markdown",
   "id": "cfaf25a3-f5a2-4bdc-8086-f5507a7f8fd0",
   "metadata": {},
   "source": [
    "# Arena"
   ]
  },
  {
   "cell_type": "markdown",
   "id": "5acfcf1e-8c56-4448-91ef-45a6a3f5d3de",
   "metadata": {},
   "source": [
    "Testear el jugador contra los distintos jugadores"
   ]
  },
  {
   "cell_type": "code",
   "execution_count": 266,
   "id": "9cf645d6-1761-4bf4-9380-a1344e0b7f59",
   "metadata": {},
   "outputs": [],
   "source": [
    "def evaluate_player(player_1, player_2, N=500):\n",
    "    \n",
    "    env = ReversiEnv(board_shape=board_shape)\n",
    "    wins_as_first = 0\n",
    "    wins_as_second = 0\n",
    "    plays_as_first = 0\n",
    "    plays_as_second = 0\n",
    "    total_steps = 0\n",
    "#    player_1 = Player_1(player=1, board_shape=board_shape, flatten_action=False)\n",
    "#    player_2 = Player_2(player=-1, board_shape=board_shape, flatten_action=False)\n",
    "\n",
    "    for i in range(N):\n",
    "        # Aveces empieza un jugador, a veces el otro\n",
    "        first_player = np.random.choice([-1, 1])\n",
    "        #print(first_player)\n",
    "        player_1.player = first_player\n",
    "        player_2.player = -first_player\n",
    "        \n",
    "        plays_as_first = plays_as_first + (first_player == 1)\n",
    "        plays_as_second = plays_as_second + (first_player == -1)\n",
    "        \n",
    "        done = False\n",
    "        n_steps = 0\n",
    "        (board, player) = env.reset()\n",
    "        \n",
    "#        print(board.shape)\n",
    "#        print(board)\n",
    "        \n",
    "        while not done:\n",
    "            if first_player == player:\n",
    "                action = player_1.predict(board)\n",
    "            else:\n",
    "                action = player_2.predict(board)\n",
    "#            print(action)\n",
    "            (board, player), reward, done, info = env.step(action)\n",
    "#            print(board)\n",
    "#            print('-------------')\n",
    "            n_steps = n_steps + 1\n",
    "        total_steps = total_steps + n_steps\n",
    "        wins_as_first = wins_as_first + (reward == first_player) * (first_player == 1)\n",
    "        wins_as_second = wins_as_second + (reward == first_player) * (first_player == -1)\n",
    "    print(f'Wins as first: {wins_as_first/plays_as_first}')\n",
    "    print(f'Wins as second: {wins_as_second/plays_as_second}')\n",
    "    print(f'Plays as first: {plays_as_first}')\n",
    "    print(f'Plays as second: {plays_as_second}')\n",
    "    print(f'Avg game duration: {total_steps/N}')\n",
    "        \n",
    "    "
   ]
  },
  {
   "cell_type": "code",
   "execution_count": 267,
   "id": "1994b0c3-3fb4-48ab-9d9e-93a12087b5db",
   "metadata": {},
   "outputs": [],
   "source": [
    "N = 1000\n",
    "board_shape = 8\n",
    "random_player_1 = RandomPlayer(board_shape = board_shape)\n",
    "random_player_2 = RandomPlayer(board_shape = board_shape)\n",
    "greedy_player_2 = GreedyPlayer(board_shape = board_shape)"
   ]
  },
  {
   "cell_type": "code",
   "execution_count": 276,
   "id": "1079d5c0-0854-4a5e-a943-7087b0e02ee4",
   "metadata": {},
   "outputs": [],
   "source": [
    "model_8_mlp = PPO.load('models/Reversi_PPO_8by8_0.99_0.95_0.0_10_6_masked_actions/best_model.zip')\n",
    "ppo_model_mlp_player_1 = TorchPlayer(model = model_8_mlp, board_shape = board_shape, deterministic = True)"
   ]
  },
  {
   "cell_type": "code",
   "execution_count": 284,
   "id": "f1edad69-c146-4528-b2b0-3f4f1ffa98bc",
   "metadata": {},
   "outputs": [],
   "source": [
    "model_8_mlp_2 = PPO.load('models/Reversi_PPO_8by8_0.99_0.95_0.0_10_6_masked_actions_2/best_model.zip')\n",
    "ppo_model_mlp_player_2 = TorchPlayer(model = model_8_mlp_2, board_shape = board_shape, deterministic = True)"
   ]
  },
  {
   "cell_type": "code",
   "execution_count": 277,
   "id": "731894a0-7a87-4884-8e02-0c2dd34dcb8b",
   "metadata": {},
   "outputs": [
    {
     "name": "stdout",
     "output_type": "stream",
     "text": [
      "(1, 1, 8, 8)\n",
      "[[[[ 0.  0.  0.  0.  0.  0.  0.  0.]\n",
      "   [ 0.  0.  0.  0.  0.  0.  0.  0.]\n",
      "   [ 0.  0.  0.  0.  0.  0.  0.  0.]\n",
      "   [ 0.  0.  0. -1.  1.  0.  0.  0.]\n",
      "   [ 0.  0.  0. -1. -1.  0.  0.  0.]\n",
      "   [ 0.  0.  0. -1.  0.  0.  0.  0.]\n",
      "   [ 0.  0.  0.  0.  0.  0.  0.  0.]\n",
      "   [ 0.  0.  0.  0.  0.  0.  0.  0.]]]]\n",
      "(array([42]), None)\n",
      "(1, 8, 8)\n",
      "[[[ 0.  0.  0.  0.  0.  0.  0.  0.]\n",
      "  [ 0.  0.  0.  0.  0.  0.  0.  0.]\n",
      "  [ 0.  0.  0.  0.  0.  0.  0.  0.]\n",
      "  [ 0.  0.  0. -1.  1.  0.  0.  0.]\n",
      "  [ 0.  0.  0. -1. -1.  0.  0.  0.]\n",
      "  [ 0.  0.  0. -1.  0.  0.  0.  0.]\n",
      "  [ 0.  0.  0.  0.  0.  0.  0.  0.]\n",
      "  [ 0.  0.  0.  0.  0.  0.  0.  0.]]]\n",
      "(42, None)\n",
      "(8, 8)\n",
      "[[ 0.  0.  0.  0.  0.  0.  0.  0.]\n",
      " [ 0.  0.  0.  0.  0.  0.  0.  0.]\n",
      " [ 0.  0.  0.  0.  0.  0.  0.  0.]\n",
      " [ 0.  0.  0. -1.  1.  0.  0.  0.]\n",
      " [ 0.  0.  0. -1. -1.  0.  0.  0.]\n",
      " [ 0.  0.  0. -1.  0.  0.  0.  0.]\n",
      " [ 0.  0.  0.  0.  0.  0.  0.  0.]\n",
      " [ 0.  0.  0.  0.  0.  0.  0.  0.]]\n",
      "[5, 2]\n"
     ]
    }
   ],
   "source": [
    "board_shape = 8\n",
    "n_envs = 1\n",
    "env = make_reversi_vec_env(\n",
    "    SelfPlayEnv, n_envs=n_envs,\n",
    "    env_kwargs={\n",
    "        'board_shape': board_shape,\n",
    "        'LocalPlayer': RandomPlayer\n",
    "    }\n",
    ")\n",
    "obs = env.reset()\n",
    "#obs = np.array((board.shape))\n",
    "board=obs[0,0]\n",
    "print(obs.shape)\n",
    "print(obs)\n",
    "print(model_8_mlp.predict(obs))\n",
    "obs_2 = np.array([board])\n",
    "print(obs_2.shape)\n",
    "print(obs_2)\n",
    "print(model_8_mlp.predict(obs_2))\n",
    "print(board.shape)\n",
    "print(board)\n",
    "print(ppo_model_mlp_player_1.predict(board))"
   ]
  },
  {
   "cell_type": "code",
   "execution_count": 286,
   "id": "2b542bbb-050c-45a0-a6ef-c6de5e9bdd75",
   "metadata": {},
   "outputs": [
    {
     "name": "stdout",
     "output_type": "stream",
     "text": [
      "Wins as first: 0.9692307692307692\n",
      "Wins as second: 0.9416666666666667\n",
      "Plays as first: 260\n",
      "Plays as second: 240\n",
      "Avg game duration: 59.936\n"
     ]
    }
   ],
   "source": [
    "_ = evaluate_player(ppo_model_mlp_player_2, random_player_2, N=500)"
   ]
  },
  {
   "cell_type": "code",
   "execution_count": 285,
   "id": "4d256592-9081-435a-9aea-f47388646446",
   "metadata": {},
   "outputs": [
    {
     "name": "stdout",
     "output_type": "stream",
     "text": [
      "Wins as first: 0.9090909090909091\n",
      "Wins as second: 0.9479553903345725\n",
      "Plays as first: 231\n",
      "Plays as second: 269\n",
      "Avg game duration: 59.986\n"
     ]
    }
   ],
   "source": [
    "_ = evaluate_player(ppo_model_mlp_player_1, random_player_2, N=500)"
   ]
  },
  {
   "cell_type": "code",
   "execution_count": 280,
   "id": "b568c04e-3929-4791-bd55-c248dd330d45",
   "metadata": {},
   "outputs": [
    {
     "name": "stdout",
     "output_type": "stream",
     "text": [
      "Wins as first: 0.898876404494382\n",
      "Wins as second: 0.8841201716738197\n",
      "Plays as first: 267\n",
      "Plays as second: 233\n",
      "Avg game duration: 58.754\n"
     ]
    }
   ],
   "source": [
    "_ = evaluate_player(ppo_model_mlp_player_1, greedy_player_2, N=500)"
   ]
  },
  {
   "cell_type": "code",
   "execution_count": 287,
   "id": "5d032386-8091-40fe-90eb-41de37e55e32",
   "metadata": {},
   "outputs": [
    {
     "name": "stdout",
     "output_type": "stream",
     "text": [
      "Wins as first: 0.32644628099173556\n",
      "Wins as second: 0.3875968992248062\n",
      "Plays as first: 242\n",
      "Plays as second: 258\n",
      "Avg game duration: 59.968\n"
     ]
    }
   ],
   "source": [
    "_ = evaluate_player(ppo_model_mlp_player_1, ppo_model_mlp_player_2, N=500)"
   ]
  },
  {
   "cell_type": "code",
   "execution_count": 283,
   "id": "ba2ce199-6c0a-448c-ba61-9ad89fcbb1ba",
   "metadata": {},
   "outputs": [
    {
     "name": "stdout",
     "output_type": "stream",
     "text": [
      "Wins as first: 0.46733360555328707\n",
      "Wins as second: 0.5076440611524892\n",
      "Plays as first: 4898\n",
      "Plays as second: 5102\n",
      "Avg game duration: 59.9322\n"
     ]
    }
   ],
   "source": [
    "_ = evaluate_player(ppo_model_mlp_player_1, ppo_model_mlp_player_2, N=10000)"
   ]
  },
  {
   "cell_type": "code",
   "execution_count": 74,
   "id": "d263b1b3-6455-4241-8534-03fc6821c5a3",
   "metadata": {},
   "outputs": [
    {
     "name": "stdout",
     "output_type": "stream",
     "text": [
      "Wins as first: 0.5510204081632653\n",
      "Wins as second: 0.5882352941176471\n",
      "Plays as first: 49\n",
      "Plays as second: 51\n",
      "Avg game duration: 59.99\n"
     ]
    }
   ],
   "source": [
    "_ = evaluate_player(random_player_1, random_player_2, N=100)"
   ]
  },
  {
   "cell_type": "code",
   "execution_count": 77,
   "id": "d6ec8bf0-1b35-4b0e-aa53-b6f0f8441d40",
   "metadata": {},
   "outputs": [
    {
     "name": "stdout",
     "output_type": "stream",
     "text": [
      "Wins as first: 0.32745098039215687\n",
      "Wins as second: 0.38979591836734695\n",
      "Plays as first: 510\n",
      "Plays as second: 490\n",
      "Avg game duration: 58.194\n"
     ]
    }
   ],
   "source": [
    "_ = evaluate_player(random_player_1, greedy_player_2, N=1000)"
   ]
  },
  {
   "cell_type": "code",
   "execution_count": 78,
   "id": "68638ed2-e7e2-4b7d-91ad-974079d56364",
   "metadata": {},
   "outputs": [
    {
     "name": "stdout",
     "output_type": "stream",
     "text": [
      "Wins as first: 0.6050583657587548\n",
      "Wins as second: 0.5432098765432098\n",
      "Plays as first: 514\n",
      "Plays as second: 486\n",
      "Avg game duration: 57.77\n"
     ]
    }
   ],
   "source": [
    "_ = evaluate_player(greedy_player_2, random_player_2, N=1000)"
   ]
  }
 ],
 "metadata": {
  "kernelspec": {
   "display_name": "Python 3",
   "language": "python",
   "name": "python3"
  },
  "language_info": {
   "codemirror_mode": {
    "name": "ipython",
    "version": 3
   },
   "file_extension": ".py",
   "mimetype": "text/x-python",
   "name": "python",
   "nbconvert_exporter": "python",
   "pygments_lexer": "ipython3",
   "version": "3.8.8"
  }
 },
 "nbformat": 4,
 "nbformat_minor": 5
}
